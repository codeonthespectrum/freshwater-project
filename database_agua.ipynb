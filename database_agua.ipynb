{
 "cells": [
  {
   "cell_type": "code",
   "execution_count": 0,
   "metadata": {
    "application/vnd.databricks.v1+cell": {
     "cellMetadata": {
      "byteLimit": 2048000,
      "rowLimit": 10000
     },
     "inputWidgets": {},
     "nuid": "59696b29-668d-4871-bb74-6a773113a0ed",
     "showTitle": false,
     "tableResultSettingsMap": {},
     "title": ""
    }
   },
   "outputs": [],
   "source": [
    "-- Grant necessary permissions\n",
    "GRANT CREATE SCHEMA ON CATALOG `workspace` TO `kimalvesg@outlook.com`;\n",
    "GRANT USE CATALOG ON CATALOG `workspace` TO `kimalvesg@outlook.com`;\n",
    "GRANT USE SCHEMA ON SCHEMA `default` TO `kimalvesg@outlook.com`;"
   ]
  },
  {
   "cell_type": "code",
   "execution_count": 0,
   "metadata": {
    "application/vnd.databricks.v1+cell": {
     "cellMetadata": {
      "byteLimit": 2048000,
      "rowLimit": 10000
     },
     "inputWidgets": {},
     "nuid": "27a08a0f-3715-4169-a372-f2ad680d96bc",
     "showTitle": false,
     "tableResultSettingsMap": {},
     "title": ""
    },
    "jupyter": {
     "outputs_hidden": true
    }
   },
   "outputs": [
    {
     "output_type": "display_data",
     "data": {
      "text/html": [
       "<style scoped>\n",
       "  .table-result-container {\n",
       "    max-height: 300px;\n",
       "    overflow: auto;\n",
       "  }\n",
       "  table, th, td {\n",
       "    border: 1px solid black;\n",
       "    border-collapse: collapse;\n",
       "  }\n",
       "  th, td {\n",
       "    padding: 5px;\n",
       "  }\n",
       "  th {\n",
       "    text-align: left;\n",
       "  }\n",
       "</style><div class='table-result-container'><table class='table-result'><thead style='background-color: white'><tr><th>num_affected_rows</th><th>num_inserted_rows</th></tr></thead><tbody><tr><td>5</td><td>5</td></tr></tbody></table></div>"
      ]
     },
     "metadata": {
      "application/vnd.databricks.v1+output": {
       "addedWidgets": {},
       "aggData": [],
       "aggError": "",
       "aggOverflow": false,
       "aggSchema": [],
       "aggSeriesLimitReached": false,
       "aggType": "",
       "arguments": {},
       "columnCustomDisplayInfos": {},
       "data": [
        [
         5,
         5
        ]
       ],
       "datasetInfos": [
        {
         "name": "_sqldf",
         "schema": {
          "fields": [
           {
            "metadata": {},
            "name": "num_affected_rows",
            "nullable": true,
            "type": "long"
           },
           {
            "metadata": {},
            "name": "num_inserted_rows",
            "nullable": true,
            "type": "long"
           }
          ],
          "type": "struct"
         },
         "tableIdentifier": null,
         "typeStr": "pyspark.sql.connect.dataframe.DataFrame"
        }
       ],
       "dbfsResultPath": null,
       "isJsonSchema": true,
       "metadata": {
        "createTempViewForImplicitDf": true,
        "dataframeName": "_sqldf",
        "executionCount": 6
       },
       "overflow": false,
       "plotOptions": {
        "customPlotOptions": {},
        "displayType": "table",
        "pivotAggregation": null,
        "pivotColumns": null,
        "xColumns": null,
        "yColumns": null
       },
       "removedWidgets": [],
       "schema": [
        {
         "metadata": "{}",
         "name": "num_affected_rows",
         "type": "\"long\""
        },
        {
         "metadata": "{}",
         "name": "num_inserted_rows",
         "type": "\"long\""
        }
       ],
       "type": "table"
      }
     },
     "output_type": "display_data"
    }
   ],
   "source": [
    "CREATE DATABASE IF NOT EXISTS projeto_agua_ng;\n",
    "\n",
    "USE projeto_agua_ng;\n",
    "\n",
    "CREATE TABLE IF NOT EXISTS valor_bruto_agua (\n",
    "  Regiao STRING, \n",
    "  Ano INT,\n",
    "  valor_prod DECIMAL (10, 2)\n",
    ");\n",
    "\n",
    "INSERT INTO valor_bruto_agua (Regiao, Ano, valor_prod)\n",
    "VALUES\n",
    "    ('Brasil', 2020, 48954),\n",
    "    ('Norte', 2020, 19177),\n",
    "    ('Nordeste', 2020, 9486),\n",
    "    ('Sudeste', 2020, 23022),\n",
    "    ('Sul', 2020, 9868),\n",
    "    ('Centro-Oeste', 2020, 4601);\n",
    "\n",
    "CREATE TABLE IF NOT EXISTS idh_estados_nordeste (\n",
    "  Estado STRING,\n",
    "  IDH DECIMAL (4,3)\n",
    ");\n",
    "\n",
    "INSERT INTO idh_estados_nordeste (Estado, IDH)\n",
    "VALUES\n",
    "    ('Ceará', 0.735),\n",
    "    ('Piauí', 0.713),\n",
    "    ('Rio Grande do Norte', 0.738),\n",
    "    ('Paraíba', 0.735),\n",
    "    ('Pernambuco', 0.727),\n",
    "    ('Alagoas', 0.683),\n",
    "    ('Sergipe', 0.702),\n",
    "    ('Bahia', 0.714),\n",
    "    ('Maranhão', 0.687);\n",
    "\n",
    "CREATE TABLE IF NOT EXISTS renda_per_capita_nordeste (\n",
    "  Estado STRING,\n",
    "  Rendimento DECIMAL (10,2)\n",
    ");\n",
    "\n",
    "INSERT INTO renda_per_capita_nordeste (Estado, Rendimento)\n",
    "VALUES\n",
    "    ('Rio Grande do Norte', 1616.00),\n",
    "    ('Sergipe', 1473.00),\n",
    "    ('Pernambuco', 1453.00),\n",
    "    ('Paraíba', 1401.00),\n",
    "    ('Bahia', 1366.00),\n",
    "    ('Piauí', 1350.00),\n",
    "    ('Ceará', 1320.00),\n",
    "    ('Alagoas', 1110.00),\n",
    "    ('Maranhão', 1077.00);\n",
    "\n",
    "CREATE TABLE IF NOT EXISTS panorama_hidrico_sanitario_ne (\n",
    "  Estado STRING,\n",
    "  Internacoes_doencas_hidricas DECIMAL (10,3),\n",
    "  Tipo_internacao STRING, \n",
    "  Observacoes STRING\n",
    ");\n",
    "\n",
    "INSERT INTO panorama_hidrico_sanitario_ne (Estado, Internacoes_doencas_hidricas, Tipo_internacao, Observacoes)\n",
    "VALUES\n",
    "    ('Maranhão', 30044.0, 'casos', 'Altos índices de poluição hídrica em áreas rurais devido ao saneamento precário e lançamento de resíduos em rios locais.'),\n",
    "    ('Piauí', 29.64, 'taxa_por_10mil', 'Problemas de poluição hídrica em comunidades rurais devido à falta de tratamento de esgoto.'),\n",
    "    ('Ceará', 17.09, 'taxa_por_10mil', 'Poluição de rios urbanos por despejo de efluentes industriais e domésticos sem tratamento adequado.'),\n",
    "    ('Rio Grande do Norte', 10.08, 'taxa_por_10mil', 'Problemas de poluição hídrica em áreas urbanas devido ao crescimento desordenado e falta de infraestrutura de saneamento.'),\n",
    "    ('Paraíba', 14.50, 'taxa_por_10mil', 'Poluição de corpos dagua por resíduos sólidos e esgoto não tratado em áreas urbanas.'),\n",
    "    ('Pernambuco', 10.15, 'taxa_por_10mil', 'Desafios significativos na gestão de resíduos líquidos, afetando tanto áreas urbanas quanto rurais.'),\n",
    "    ('Alagoas', 14.75, 'taxa_por_10mil', 'Poluição hídrica em comunidades rurais devido ao descarte inadequado de resíduos e falta de saneamento.'),\n",
    "    ('Sergipe', 12.31, 'taxa_por_10mil', 'Problemas de poluição de rios e lagos por esgoto doméstico e industrial sem tratamento.'),\n",
    "    ('Bahia', 15.72, 'taxa_por_10mil', 'Poluição hídrica em áreas urbanas e rurais devido ao lançamento de efluentes sem tratamento adequado.');\n",
    "\n",
    "CREATE TABLE IF NOT EXISTS saneamento_basico (\n",
    "    Estado STRING,\n",
    "    IN055_Atendimento_Agua DECIMAL(5,2),\n",
    "    IN022_Consumo_Medio DECIMAL(10,2),\n",
    "    Perdas_Distribuicao DECIMAL(5,2),\n",
    "    IN051_Perdas_Ligacao DECIMAL(5,2),\n",
    "    IN056_Atendimento_Esgoto DECIMAL(5,2),\n",
    "    IN016_Tratamento_Esgoto DECIMAL(5,2),\n",
    "    Proporcao_Esgoto_Tratado DECIMAL(5,2)\n",
    ");\n",
    "\n",
    "INSERT INTO saneamento_basico (\n",
    "    Estado,\n",
    "    IN055_Atendimento_Agua,\n",
    "    IN022_Consumo_Medio,\n",
    "    Perdas_Distribuicao,\n",
    "    IN051_Perdas_Ligacao,\n",
    "    IN056_Atendimento_Esgoto,\n",
    "    IN016_Tratamento_Esgoto,\n",
    "    Proporcao_Esgoto_Tratado\n",
    ")\n",
    "VALUES\n",
    "    ('Bahia', 80.55, 121.49, 41.66, 80.37, 48.79, 48.79, NULL), \n",
    "    ('Sergipe', 91.62, 109.30, 34.71, 82.47, 38.14, 38.14, NULL),\n",
    "    ('Alagoas', 77.21, 101.69, 19.61, 68.99, 14.75, 14.75, NULL),\n",
    "    ('Pernambuco', 86.65, 111.88, 34.20, 30.45, 30.10, 30.10, NULL),\n",
    "    ('Paraíba', 76.99, 106.67, 40.02, 79.39, 38.66, 38.66, NULL),\n",
    "    ('Rio Grande do Norte', 79.69, 120.07, 30.15, 81.73, 29.78, 29.78, NULL),\n",
    "    ('Ceará', 70.30, 128.87, 29.58, 87.04, 36.57, 36.57, NULL),\n",
    "    ('Piauí', 72.84, 141.18, 19.36, 90.27, 18.84, 18.84, NULL);\n",
    "\n",
    "CREATE TABLE IF NOT EXISTS abastecimento_agua_regioes (\n",
    "  Regiao STRING,\n",
    "  Percentual_total DECIMAL (5,2)\n",
    ");\n",
    "\n",
    "INSERT INTO abastecimento_agua_regioes (Regiao, Percentual_total)\n",
    "VALUES\n",
    "    ( 'Regiao Norte', 56.45),\n",
    "    ('Regiao Nordeste', 77.00),\n",
    "    ('Regiao Sudeste', 91.17),\n",
    "    ('Regiao Sul', 86.89),\n",
    "    ('Regiao Centro-Oeste', 85.65);\n",
    "\n",
    "CREATE TABLE IF NOT EXISTS conexao_esgoto_regioes (\n",
    "  Regiao STRING,\n",
    "  Percentual DECIMAL (5,2)\n",
    ");\n",
    "\n",
    "INSERT INTO conexao_esgoto_regioes (Regiao, Percentual)\n",
    "VALUES\n",
    "    ('Região Norte', 24.41),\n",
    "    ('Região Nordeste', 43.06),\n",
    "    ('Região Sudeste', 86.68),\n",
    "    ('Região Sul', 63.73),\n",
    "    ('Região Centro-Oeste', 54.27);\n",
    "\n",
    "\n"
   ]
  }
 ],
 "metadata": {
  "application/vnd.databricks.v1+notebook": {
   "computePreferences": null,
   "dashboards": [],
   "environmentMetadata": {
    "base_environment": "",
    "environment_version": "2"
   },
   "inputWidgetPreferences": null,
   "language": "sql",
   "notebookMetadata": {
    "pythonIndentUnit": 4
   },
   "notebookName": "database_agua",
   "widgets": {}
  },
  "language_info": {
   "name": "sql"
  }
 },
 "nbformat": 4,
 "nbformat_minor": 0
}